{
 "cells": [
  {
   "cell_type": "markdown",
   "id": "816d82f9",
   "metadata": {},
   "source": [
    "Assignment 20"
   ]
  },
  {
   "cell_type": "markdown",
   "id": "ef1799e9",
   "metadata": {},
   "source": [
    "Consider the following code to answer further questions:\n",
    "import numpy as np\n",
    "list_=['1','2','3','4','5']\n",
    "array_list=np.array(object=list_)"
   ]
  },
  {
   "cell_type": "markdown",
   "id": "10962bc4",
   "metadata": {},
   "source": [
    "Q1. Is there any difference in the data type of variables list_ and array_list? If there is then write a code to print the data\n",
    "    type of both the variables."
   ]
  },
  {
   "cell_type": "code",
   "execution_count": 6,
   "id": "6964999a",
   "metadata": {},
   "outputs": [
    {
     "name": "stdout",
     "output_type": "stream",
     "text": [
      "Data type of list_ is :  <class 'list'>\n",
      "Data type of array_list is :  <class 'numpy.ndarray'>\n"
     ]
    }
   ],
   "source": [
    "#Ans:\n",
    "#Yes.\n",
    "import numpy as np\n",
    "list_=['1','2','3','4','5']\n",
    "array_list=np.array(object=list_)\n",
    "print(\"Data type of list_ is : \",type(list_))\n",
    "print(\"Data type of array_list is : \",type(array_list))"
   ]
  },
  {
   "cell_type": "markdown",
   "id": "557fdfc5",
   "metadata": {},
   "source": [
    "Q2. Write a code to print the data type of each and every element of both the variables list_ and list_ and array_list."
   ]
  },
  {
   "cell_type": "code",
   "execution_count": 14,
   "id": "fd318e58",
   "metadata": {},
   "outputs": [
    {
     "name": "stdout",
     "output_type": "stream",
     "text": [
      "Data type of 1 in list_ is :  <class 'str'>\n",
      "Data type of 2 in list_ is :  <class 'str'>\n",
      "Data type of 3 in list_ is :  <class 'str'>\n",
      "Data type of 4 in list_ is :  <class 'str'>\n",
      "Data type of 5 in list_ is :  <class 'str'>\n",
      "Data type of each element in array_list is :  <U1\n"
     ]
    }
   ],
   "source": [
    "#Ans:\n",
    "import numpy as np\n",
    "list_=['1','2','3','4','5']\n",
    "array_list=np.array(list_)\n",
    "for i in list_:\n",
    "    print(f\"Data type of {i} in list_ is : \",type(i))\n",
    "print(\"Data type of each element in array_list is : \",array_list.dtype)    \n"
   ]
  },
  {
   "cell_type": "markdown",
   "id": "8de9c050",
   "metadata": {},
   "source": [
    "Q3. Consider the following changes in the variable, array_list:\n",
    "    array_list=np.array(object=list_,dtype=int)\n",
    "    Will there be any difference in the data type of the elements present in both the variables, list_ and array_list? If so         then print the data types of each and every element present both the variables, list_ and array_list."
   ]
  },
  {
   "cell_type": "code",
   "execution_count": 15,
   "id": "3d40eda5",
   "metadata": {},
   "outputs": [
    {
     "name": "stdout",
     "output_type": "stream",
     "text": [
      "Data type of 1 in list_ is :  <class 'str'>\n",
      "Data type of 2 in list_ is :  <class 'str'>\n",
      "Data type of 3 in list_ is :  <class 'str'>\n",
      "Data type of 4 in list_ is :  <class 'str'>\n",
      "Data type of 5 in list_ is :  <class 'str'>\n",
      "Data type of each element in array_list is :  int32\n"
     ]
    }
   ],
   "source": [
    "#Ans:\n",
    "#Yes.\n",
    "import numpy as np\n",
    "list_=['1','2','3','4','5']\n",
    "array_list=np.array(object=list_,dtype=int)\n",
    "for i in list_:\n",
    "    print(f\"Data type of {i} in list_ is : \",type(i))\n",
    "print(\"Data type of each element in array_list is : \",array_list.dtype)    "
   ]
  },
  {
   "cell_type": "markdown",
   "id": "69148d27",
   "metadata": {},
   "source": [
    "Consider the below code to answer further questions:\n",
    "import numpy as np\n",
    "num_list=[[1,2,3],[4,5,6]]\n",
    "num_array=np.array(object=num_list)"
   ]
  },
  {
   "cell_type": "markdown",
   "id": "9a8cf886",
   "metadata": {},
   "source": [
    "Q4. Write a code to find the following characteristics of variable, num_array:\n",
    "    (i) shape\n",
    "    (ii) size"
   ]
  },
  {
   "cell_type": "code",
   "execution_count": 18,
   "id": "27667315",
   "metadata": {},
   "outputs": [
    {
     "name": "stdout",
     "output_type": "stream",
     "text": [
      "The shape of num_array is :  (2, 3)\n",
      "The size of num_array is :  6\n"
     ]
    }
   ],
   "source": [
    "#Ans:\n",
    "#(i)\n",
    "import numpy as np\n",
    "num_list=[[1,2,3],[4,5,6]]\n",
    "num_array=np.array(object=num_list)\n",
    "print(\"The shape of num_array is : \",num_array.shape)\n",
    "print(\"The size of num_array is : \",num_array.size)\n"
   ]
  },
  {
   "cell_type": "markdown",
   "id": "6822e815",
   "metadata": {},
   "source": [
    "Q5. Write a code to create numpy array of 3*3 matrix containing zeros only, using a numpy array creation function."
   ]
  },
  {
   "cell_type": "code",
   "execution_count": 24,
   "id": "dbe119f7",
   "metadata": {},
   "outputs": [
    {
     "data": {
      "text/plain": [
       "array([[0., 0., 0.],\n",
       "       [0., 0., 0.],\n",
       "       [0., 0., 0.]])"
      ]
     },
     "execution_count": 24,
     "metadata": {},
     "output_type": "execute_result"
    }
   ],
   "source": [
    "#Ans:\n",
    "import numpy as np\n",
    "np.zeros((3,3))"
   ]
  },
  {
   "cell_type": "markdown",
   "id": "dd0884b8",
   "metadata": {},
   "source": [
    "Q6. Create an identity matrix of shape (5,5) using numpy functions?"
   ]
  },
  {
   "cell_type": "code",
   "execution_count": 23,
   "id": "b3f8d7d9",
   "metadata": {},
   "outputs": [
    {
     "data": {
      "text/plain": [
       "array([[1, 0, 0, 0, 0],\n",
       "       [0, 1, 0, 0, 0],\n",
       "       [0, 0, 1, 0, 0],\n",
       "       [0, 0, 0, 1, 0],\n",
       "       [0, 0, 0, 0, 1]])"
      ]
     },
     "execution_count": 23,
     "metadata": {},
     "output_type": "execute_result"
    }
   ],
   "source": [
    "#Ans:\n",
    "import numpy as np\n",
    "np.eye(N=5,M=5,dtype=int)"
   ]
  },
  {
   "cell_type": "code",
   "execution_count": null,
   "id": "c3287fd6",
   "metadata": {},
   "outputs": [],
   "source": []
  }
 ],
 "metadata": {
  "kernelspec": {
   "display_name": "Python 3 (ipykernel)",
   "language": "python",
   "name": "python3"
  },
  "language_info": {
   "codemirror_mode": {
    "name": "ipython",
    "version": 3
   },
   "file_extension": ".py",
   "mimetype": "text/x-python",
   "name": "python",
   "nbconvert_exporter": "python",
   "pygments_lexer": "ipython3",
   "version": "3.10.9"
  }
 },
 "nbformat": 4,
 "nbformat_minor": 5
}
